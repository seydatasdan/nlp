{
 "cells": [
  {
   "cell_type": "markdown",
   "id": "66ba14cc-3b2e-404b-b6f2-6999a1838d29",
   "metadata": {},
   "source": [
    "Metin Sınıflandırma"
   ]
  },
  {
   "cell_type": "code",
   "execution_count": 27,
   "id": "bbeba058-cddc-4f81-8307-7e34e993975b",
   "metadata": {},
   "outputs": [
    {
     "name": "stdout",
     "output_type": "stream",
     "text": [
      "Collecting matplotlib\n",
      "  Downloading matplotlib-3.7.1-cp310-cp310-win_amd64.whl (7.6 MB)\n",
      "     ---------------------------------------- 7.6/7.6 MB 1.4 MB/s eta 0:00:00\n",
      "Collecting pillow>=6.2.0\n",
      "  Downloading Pillow-9.5.0-cp310-cp310-win_amd64.whl (2.5 MB)\n",
      "     ---------------------------------------- 2.5/2.5 MB 1.4 MB/s eta 0:00:00\n",
      "Requirement already satisfied: packaging>=20.0 in c:\\users\\seyda\\miniconda3\\lib\\site-packages (from matplotlib) (23.0)\n",
      "Collecting cycler>=0.10\n",
      "  Downloading cycler-0.11.0-py3-none-any.whl (6.4 kB)\n",
      "Collecting pyparsing>=2.3.1\n",
      "  Downloading pyparsing-3.0.9-py3-none-any.whl (98 kB)\n",
      "     ---------------------------------------- 98.3/98.3 kB 1.9 MB/s eta 0:00:00\n",
      "Collecting fonttools>=4.22.0\n",
      "  Downloading fonttools-4.39.4-py3-none-any.whl (1.0 MB)\n",
      "     ---------------------------------------- 1.0/1.0 MB 1.3 MB/s eta 0:00:00\n",
      "Requirement already satisfied: python-dateutil>=2.7 in c:\\users\\seyda\\miniconda3\\lib\\site-packages (from matplotlib) (2.8.2)\n",
      "Collecting contourpy>=1.0.1\n",
      "  Downloading contourpy-1.0.7-cp310-cp310-win_amd64.whl (162 kB)\n",
      "     -------------------------------------- 163.0/163.0 kB 2.0 MB/s eta 0:00:00\n",
      "Requirement already satisfied: numpy>=1.20 in c:\\users\\seyda\\miniconda3\\lib\\site-packages (from matplotlib) (1.24.3)\n",
      "Collecting kiwisolver>=1.0.1\n",
      "  Downloading kiwisolver-1.4.4-cp310-cp310-win_amd64.whl (55 kB)\n",
      "     ---------------------------------------- 55.3/55.3 kB 1.5 MB/s eta 0:00:00\n",
      "Requirement already satisfied: six>=1.5 in c:\\users\\seyda\\miniconda3\\lib\\site-packages (from python-dateutil>=2.7->matplotlib) (1.16.0)\n",
      "Installing collected packages: pyparsing, pillow, kiwisolver, fonttools, cycler, contourpy, matplotlib\n",
      "Successfully installed contourpy-1.0.7 cycler-0.11.0 fonttools-4.39.4 kiwisolver-1.4.4 matplotlib-3.7.1 pillow-9.5.0 pyparsing-3.0.9\n",
      "Note: you may need to restart the kernel to use updated packages.\n"
     ]
    }
   ],
   "source": [
    "pip install matplotlib"
   ]
  },
  {
   "cell_type": "code",
   "execution_count": 1,
   "id": "a5289198-493f-4b6d-a5f5-4d8d137bc20f",
   "metadata": {},
   "outputs": [],
   "source": [
    "import pandas as pd\n",
    "import on_islem"
   ]
  },
  {
   "cell_type": "code",
   "execution_count": 3,
   "id": "29f92aac-0130-4610-90f0-d1dc20538d53",
   "metadata": {},
   "outputs": [
    {
     "data": {
      "text/html": [
       "<div>\n",
       "<style scoped>\n",
       "    .dataframe tbody tr th:only-of-type {\n",
       "        vertical-align: middle;\n",
       "    }\n",
       "\n",
       "    .dataframe tbody tr th {\n",
       "        vertical-align: top;\n",
       "    }\n",
       "\n",
       "    .dataframe thead th {\n",
       "        text-align: right;\n",
       "    }\n",
       "</style>\n",
       "<table border=\"1\" class=\"dataframe\">\n",
       "  <thead>\n",
       "    <tr style=\"text-align: right;\">\n",
       "      <th></th>\n",
       "      <th>Text</th>\n",
       "      <th>Label</th>\n",
       "      <th>Text_2</th>\n",
       "      <th>Text_3</th>\n",
       "    </tr>\n",
       "  </thead>\n",
       "  <tbody>\n",
       "    <tr>\n",
       "      <th>0</th>\n",
       "      <td>Allah'ım çıldıracağım. Yemin ederim çıldıracağ...</td>\n",
       "      <td>kızgın</td>\n",
       "      <td>[allah, çıldıracağım, ye, eder, çıldıracak, si...</td>\n",
       "      <td>allah çıldıracağım ye eder çıldıracak sinirimd...</td>\n",
       "    </tr>\n",
       "    <tr>\n",
       "      <th>1</th>\n",
       "      <td>site ne zaman çalıştıda ürün stokları bitti di...</td>\n",
       "      <td>kızgın</td>\n",
       "      <td>[si, ne, zama, çalıştı, ür, stok, bit, diyor, ...</td>\n",
       "      <td>si ne zama çalıştı ür stok bit diyor mal mı oğ...</td>\n",
       "    </tr>\n",
       "    <tr>\n",
       "      <th>2</th>\n",
       "      <td>Sebebi neydi ki diye bağıracağım şimdi az kaldı</td>\n",
       "      <td>kızgın</td>\n",
       "      <td>[sebep, ne, ki, di, bağıracak, kal]</td>\n",
       "      <td>sebep ne ki di bağıracak kal</td>\n",
       "    </tr>\n",
       "    <tr>\n",
       "      <th>3</th>\n",
       "      <td>Black friday ne amk bu yıl çıkardınız bu bokud...</td>\n",
       "      <td>kızgın</td>\n",
       "      <td>[black, friday, ne, amk, bu, yıl, çıkar, bu, b...</td>\n",
       "      <td>black friday ne amk bu yıl çıkar bu boku mal m...</td>\n",
       "    </tr>\n",
       "    <tr>\n",
       "      <th>4</th>\n",
       "      <td>kısa kısa cevaplar vericeksen niye yazıyorsun ...</td>\n",
       "      <td>kızgın</td>\n",
       "      <td>[kıs, kıs, cevap, vericek, ni, yazıyor, gerize...</td>\n",
       "      <td>kıs kıs cevap vericek ni yazıyor gerizekal</td>\n",
       "    </tr>\n",
       "  </tbody>\n",
       "</table>\n",
       "</div>"
      ],
      "text/plain": [
       "                                                Text   Label   \n",
       "0  Allah'ım çıldıracağım. Yemin ederim çıldıracağ...  kızgın  \\\n",
       "1  site ne zaman çalıştıda ürün stokları bitti di...  kızgın   \n",
       "2    Sebebi neydi ki diye bağıracağım şimdi az kaldı  kızgın   \n",
       "3  Black friday ne amk bu yıl çıkardınız bu bokud...  kızgın   \n",
       "4  kısa kısa cevaplar vericeksen niye yazıyorsun ...  kızgın   \n",
       "\n",
       "                                              Text_2   \n",
       "0  [allah, çıldıracağım, ye, eder, çıldıracak, si...  \\\n",
       "1  [si, ne, zama, çalıştı, ür, stok, bit, diyor, ...   \n",
       "2                [sebep, ne, ki, di, bağıracak, kal]   \n",
       "3  [black, friday, ne, amk, bu, yıl, çıkar, bu, b...   \n",
       "4  [kıs, kıs, cevap, vericek, ni, yazıyor, gerize...   \n",
       "\n",
       "                                              Text_3  \n",
       "0  allah çıldıracağım ye eder çıldıracak sinirimd...  \n",
       "1  si ne zama çalıştı ür stok bit diyor mal mı oğ...  \n",
       "2                       sebep ne ki di bağıracak kal  \n",
       "3  black friday ne amk bu yıl çıkar bu boku mal m...  \n",
       "4         kıs kıs cevap vericek ni yazıyor gerizekal  "
      ]
     },
     "execution_count": 3,
     "metadata": {},
     "output_type": "execute_result"
    }
   ],
   "source": [
    "df=pd.read_csv(\"data/metin_siniflandirma.csv\",index_col=0)  #dosyayı okuduk\n",
    "df[\"Text_2\"]=df[\"Text\"].apply(on_islem.pre_processing)  \n",
    "df[\"Text_2\"]=df[\"Text_2\"].apply(on_islem.remove_space)     #boşlukları kaldırma fonksiyonu\n",
    "df[\"Text_3\"]=[' '.join(wrd for wrd in x)for x in df[\"Text_2\"]]   #virgülle ayrılmış halini birleştirme\n",
    "\n",
    "df_index=df[df[\"Text_2\"].str[0].isnull()].index    #boş listeleri silme\n",
    "df=df.drop(df_index)\n",
    "df=df.reset_index()\n",
    "del df[\"index\"]\n",
    "df.head()"
   ]
  },
  {
   "cell_type": "code",
   "execution_count": 4,
   "id": "4f24f2fa-cc5e-44fe-8691-3e7f1ad509a4",
   "metadata": {},
   "outputs": [
    {
     "data": {
      "text/plain": [
       "Label\n",
       "korku      800\n",
       "kızgın     799\n",
       "mutlu      800\n",
       "surpriz    800\n",
       "üzgün      799\n",
       "dtype: int64"
      ]
     },
     "execution_count": 4,
     "metadata": {},
     "output_type": "execute_result"
    }
   ],
   "source": [
    "df.groupby(\"Label\").size()"
   ]
  },
  {
   "cell_type": "code",
   "execution_count": 5,
   "id": "e99e2be4-04f5-47c6-a4f7-b69ce9cf65c8",
   "metadata": {},
   "outputs": [],
   "source": [
    "from sklearn.model_selection import train_test_split"
   ]
  },
  {
   "cell_type": "code",
   "execution_count": 7,
   "id": "46301ab6-4928-4179-be28-ceab951843b3",
   "metadata": {},
   "outputs": [],
   "source": [
    "msg_train, msg_test, label_train, label_test = train_test_split(df[\"Text_3\"].tolist(),\n",
    "                                                                df[\"Label\"].tolist(), \n",
    "                                                                test_size=0.2, \n",
    "                                                                random_state=42)"
   ]
  },
  {
   "cell_type": "code",
   "execution_count": 8,
   "id": "1ba383f9-137b-4187-af56-bec9965b28c2",
   "metadata": {},
   "outputs": [
    {
     "data": {
      "text/plain": [
       "3198"
      ]
     },
     "execution_count": 8,
     "metadata": {},
     "output_type": "execute_result"
    }
   ],
   "source": [
    "len(msg_train)"
   ]
  },
  {
   "cell_type": "code",
   "execution_count": 9,
   "id": "143f9476-94f1-486f-9504-996d3b3453a0",
   "metadata": {},
   "outputs": [
    {
     "data": {
      "text/plain": [
       "800"
      ]
     },
     "execution_count": 9,
     "metadata": {},
     "output_type": "execute_result"
    }
   ],
   "source": [
    "len(msg_test)"
   ]
  },
  {
   "cell_type": "code",
   "execution_count": 10,
   "id": "51ffcae6-91d1-46d9-a50c-6d6d0bf83c80",
   "metadata": {},
   "outputs": [
    {
     "data": {
      "text/plain": [
       "3198"
      ]
     },
     "execution_count": 10,
     "metadata": {},
     "output_type": "execute_result"
    }
   ],
   "source": [
    "len(label_train)"
   ]
  },
  {
   "cell_type": "code",
   "execution_count": 12,
   "id": "fdb75e40-095d-449a-a9bb-61886a2f4ffd",
   "metadata": {},
   "outputs": [
    {
     "data": {
      "text/plain": [
       "label\n",
       "korku      164\n",
       "kızgın     169\n",
       "mutlu      160\n",
       "surpriz    155\n",
       "üzgün      152\n",
       "dtype: int64"
      ]
     },
     "execution_count": 12,
     "metadata": {},
     "output_type": "execute_result"
    }
   ],
   "source": [
    "df_test=pd.DataFrame({\"text\":msg_test,'label':label_test})\n",
    "df_test.groupby(\"label\").size()"
   ]
  },
  {
   "cell_type": "code",
   "execution_count": 13,
   "id": "e4e20d73-6f09-4c26-8f83-896f4c077983",
   "metadata": {},
   "outputs": [],
   "source": [
    "from sklearn.svm import LinearSVC\n",
    "from sklearn.pipeline import Pipeline\n",
    "from sklearn.feature_extraction.text import TfidfVectorizer"
   ]
  },
  {
   "cell_type": "code",
   "execution_count": 14,
   "id": "634bd2ab-dbc0-4af3-b904-ea0465cca96c",
   "metadata": {},
   "outputs": [],
   "source": [
    "svm=Pipeline([('vect',TfidfVectorizer()),('svm',LinearSVC())])"
   ]
  },
  {
   "cell_type": "code",
   "execution_count": 15,
   "id": "603e5574-326e-4af2-9cfd-c55a72de7c48",
   "metadata": {},
   "outputs": [],
   "source": [
    "svm.fit(msg_train,label_train)\n",
    "y_pred_class=svm.predict(msg_test)"
   ]
  },
  {
   "cell_type": "code",
   "execution_count": 28,
   "id": "027e1db7-2383-44f0-9fe8-3f76aa616506",
   "metadata": {},
   "outputs": [],
   "source": [
    "from sklearn.metrics import f1_score,accuracy_score, confusion_matrix, ConfusionMatrixDisplay "
   ]
  },
  {
   "cell_type": "code",
   "execution_count": 17,
   "id": "57420ad3-614f-4a90-9128-677aa2ca4f05",
   "metadata": {},
   "outputs": [
    {
     "name": "stdout",
     "output_type": "stream",
     "text": [
      "svm accuracy score : 0.9775\n"
     ]
    }
   ],
   "source": [
    "print(\"svm accuracy score :\", accuracy_score(label_test, y_pred_class))"
   ]
  },
  {
   "cell_type": "code",
   "execution_count": 18,
   "id": "2782e176-b51c-4c35-81e8-7bbaf0534054",
   "metadata": {},
   "outputs": [
    {
     "name": "stdout",
     "output_type": "stream",
     "text": [
      "svm f1 score : 0.9775152698970822\n"
     ]
    }
   ],
   "source": [
    "print(\"svm f1 score :\", f1_score(label_test,y_pred_class, average=\"weighted\"))"
   ]
  },
  {
   "cell_type": "code",
   "execution_count": 19,
   "id": "aa946661-ce97-45bd-b753-e03f87271ca7",
   "metadata": {},
   "outputs": [
    {
     "data": {
      "text/plain": [
       "800"
      ]
     },
     "execution_count": 19,
     "metadata": {},
     "output_type": "execute_result"
    }
   ],
   "source": [
    "len(label_test)"
   ]
  },
  {
   "cell_type": "code",
   "execution_count": 20,
   "id": "8a3fa005-8f65-4eae-859a-a71f27744e86",
   "metadata": {},
   "outputs": [
    {
     "data": {
      "text/plain": [
       "784.0"
      ]
     },
     "execution_count": 20,
     "metadata": {},
     "output_type": "execute_result"
    }
   ],
   "source": [
    "800*0.98"
   ]
  },
  {
   "cell_type": "code",
   "execution_count": 30,
   "id": "f62df8a3-fad5-4eb0-9b80-ce914305b604",
   "metadata": {},
   "outputs": [
    {
     "data": {
      "text/plain": [
       "label\n",
       "korku      164\n",
       "kızgın     169\n",
       "mutlu      160\n",
       "surpriz    155\n",
       "üzgün      152\n",
       "dtype: int64"
      ]
     },
     "execution_count": 30,
     "metadata": {},
     "output_type": "execute_result"
    }
   ],
   "source": [
    "df_test.groupby(\"label\").size()"
   ]
  },
  {
   "cell_type": "code",
   "execution_count": 29,
   "id": "309ba987-60d9-488a-aa85-231bad22a5eb",
   "metadata": {},
   "outputs": [
    {
     "data": {
      "text/plain": [
       "<sklearn.metrics._plot.confusion_matrix.ConfusionMatrixDisplay at 0x22169f6ab60>"
      ]
     },
     "execution_count": 29,
     "metadata": {},
     "output_type": "execute_result"
    },
    {
     "data": {
      "image/png": "[encoded data removed]",
      "text/plain": [
       "<Figure size 640x480 with 2 Axes>"
      ]
     },
     "metadata": {},
     "output_type": "display_data"
    }
   ],
   "source": [
    "cm=confusion_matrix(label_test, y_pred_class, labels=svm.classes_)\n",
    "disp=ConfusionMatrixDisplay(confusion_matrix=cm,display_labels=svm.classes_)\n",
    "disp.plot()"
   ]
  },
  {
   "cell_type": "code",
   "execution_count": 34,
   "id": "8dcb7557-cbe4-4317-809b-efc295e4dc3a",
   "metadata": {},
   "outputs": [
    {
     "data": {
      "text/plain": [
       "array(['üzgün'], dtype='<U7')"
      ]
     },
     "execution_count": 34,
     "metadata": {},
     "output_type": "execute_result"
    }
   ],
   "source": [
    "# örnek veri testi\n",
    "\n",
    "msg_test_2=[\"kötüyüm\"]\n",
    "y_pred_class=svm.predict(msg_test_2)\n",
    "y_pred_class"
   ]
  },
  {
   "cell_type": "code",
   "execution_count": 35,
   "id": "deb41579-a726-4cd5-8664-c36b5fd10a5d",
   "metadata": {},
   "outputs": [
    {
     "data": {
      "text/html": [
       "<div>\n",
       "<style scoped>\n",
       "    .dataframe tbody tr th:only-of-type {\n",
       "        vertical-align: middle;\n",
       "    }\n",
       "\n",
       "    .dataframe tbody tr th {\n",
       "        vertical-align: top;\n",
       "    }\n",
       "\n",
       "    .dataframe thead th {\n",
       "        text-align: right;\n",
       "    }\n",
       "</style>\n",
       "<table border=\"1\" class=\"dataframe\">\n",
       "  <thead>\n",
       "    <tr style=\"text-align: right;\">\n",
       "      <th></th>\n",
       "      <th>Text</th>\n",
       "      <th>Label</th>\n",
       "      <th>Text_2</th>\n",
       "      <th>Text_3</th>\n",
       "    </tr>\n",
       "  </thead>\n",
       "  <tbody>\n",
       "    <tr>\n",
       "      <th>0</th>\n",
       "      <td>Allah'ım çıldıracağım. Yemin ederim çıldıracağ...</td>\n",
       "      <td>kızgın</td>\n",
       "      <td>[allah, çıldıracağım, ye, eder, çıldıracak, si...</td>\n",
       "      <td>allah çıldıracağım ye eder çıldıracak sinirimd...</td>\n",
       "    </tr>\n",
       "    <tr>\n",
       "      <th>1</th>\n",
       "      <td>site ne zaman çalıştıda ürün stokları bitti di...</td>\n",
       "      <td>kızgın</td>\n",
       "      <td>[si, ne, zama, çalıştı, ür, stok, bit, diyor, ...</td>\n",
       "      <td>si ne zama çalıştı ür stok bit diyor mal mı oğ...</td>\n",
       "    </tr>\n",
       "    <tr>\n",
       "      <th>2</th>\n",
       "      <td>Sebebi neydi ki diye bağıracağım şimdi az kaldı</td>\n",
       "      <td>kızgın</td>\n",
       "      <td>[sebep, ne, ki, di, bağıracak, kal]</td>\n",
       "      <td>sebep ne ki di bağıracak kal</td>\n",
       "    </tr>\n",
       "    <tr>\n",
       "      <th>3</th>\n",
       "      <td>Black friday ne amk bu yıl çıkardınız bu bokud...</td>\n",
       "      <td>kızgın</td>\n",
       "      <td>[black, friday, ne, amk, bu, yıl, çıkar, bu, b...</td>\n",
       "      <td>black friday ne amk bu yıl çıkar bu boku mal m...</td>\n",
       "    </tr>\n",
       "    <tr>\n",
       "      <th>4</th>\n",
       "      <td>kısa kısa cevaplar vericeksen niye yazıyorsun ...</td>\n",
       "      <td>kızgın</td>\n",
       "      <td>[kıs, kıs, cevap, vericek, ni, yazıyor, gerize...</td>\n",
       "      <td>kıs kıs cevap vericek ni yazıyor gerizekal</td>\n",
       "    </tr>\n",
       "  </tbody>\n",
       "</table>\n",
       "</div>"
      ],
      "text/plain": [
       "                                                Text   Label   \n",
       "0  Allah'ım çıldıracağım. Yemin ederim çıldıracağ...  kızgın  \\\n",
       "1  site ne zaman çalıştıda ürün stokları bitti di...  kızgın   \n",
       "2    Sebebi neydi ki diye bağıracağım şimdi az kaldı  kızgın   \n",
       "3  Black friday ne amk bu yıl çıkardınız bu bokud...  kızgın   \n",
       "4  kısa kısa cevaplar vericeksen niye yazıyorsun ...  kızgın   \n",
       "\n",
       "                                              Text_2   \n",
       "0  [allah, çıldıracağım, ye, eder, çıldıracak, si...  \\\n",
       "1  [si, ne, zama, çalıştı, ür, stok, bit, diyor, ...   \n",
       "2                [sebep, ne, ki, di, bağıracak, kal]   \n",
       "3  [black, friday, ne, amk, bu, yıl, çıkar, bu, b...   \n",
       "4  [kıs, kıs, cevap, vericek, ni, yazıyor, gerize...   \n",
       "\n",
       "                                              Text_3  \n",
       "0  allah çıldıracağım ye eder çıldıracak sinirimd...  \n",
       "1  si ne zama çalıştı ür stok bit diyor mal mı oğ...  \n",
       "2                       sebep ne ki di bağıracak kal  \n",
       "3  black friday ne amk bu yıl çıkar bu boku mal m...  \n",
       "4         kıs kıs cevap vericek ni yazıyor gerizekal  "
      ]
     },
     "execution_count": 35,
     "metadata": {},
     "output_type": "execute_result"
    }
   ],
   "source": [
    "df.head()"
   ]
  },
  {
   "cell_type": "code",
   "execution_count": 37,
   "id": "0b52abc8-373a-4540-8948-3036d0042790",
   "metadata": {},
   "outputs": [],
   "source": [
    "from gensim.models import Word2Vec\n",
    "\n",
    "model = Word2Vec.load(\"data/word2vec.model\")\n",
    "\n",
    "model.build_vocab(df[\"Text_2\"].tolist(),update=True)\n",
    "\n",
    "model.save(\"data/word2vec.model\")"
   ]
  },
  {
   "cell_type": "code",
   "execution_count": 38,
   "id": "76893ef2-7248-4d56-b837-d378ba43527d",
   "metadata": {},
   "outputs": [
    {
     "data": {
      "text/html": [
       "<div>\n",
       "<style scoped>\n",
       "    .dataframe tbody tr th:only-of-type {\n",
       "        vertical-align: middle;\n",
       "    }\n",
       "\n",
       "    .dataframe tbody tr th {\n",
       "        vertical-align: top;\n",
       "    }\n",
       "\n",
       "    .dataframe thead th {\n",
       "        text-align: right;\n",
       "    }\n",
       "</style>\n",
       "<table border=\"1\" class=\"dataframe\">\n",
       "  <thead>\n",
       "    <tr style=\"text-align: right;\">\n",
       "      <th></th>\n",
       "      <th>Text</th>\n",
       "      <th>Label</th>\n",
       "      <th>Text_2</th>\n",
       "      <th>Text_3</th>\n",
       "      <th>word2vec</th>\n",
       "    </tr>\n",
       "  </thead>\n",
       "  <tbody>\n",
       "    <tr>\n",
       "      <th>0</th>\n",
       "      <td>Allah'ım çıldıracağım. Yemin ederim çıldıracağ...</td>\n",
       "      <td>kızgın</td>\n",
       "      <td>[allah, çıldıracağım, ye, eder, çıldıracak, si...</td>\n",
       "      <td>allah çıldıracağım ye eder çıldıracak sinirimd...</td>\n",
       "      <td>[-0.05035147815942764, 0.07184021174907684, 0....</td>\n",
       "    </tr>\n",
       "    <tr>\n",
       "      <th>1</th>\n",
       "      <td>site ne zaman çalıştıda ürün stokları bitti di...</td>\n",
       "      <td>kızgın</td>\n",
       "      <td>[si, ne, zama, çalıştı, ür, stok, bit, diyor, ...</td>\n",
       "      <td>si ne zama çalıştı ür stok bit diyor mal mı oğ...</td>\n",
       "      <td>[-0.029470136389136314, 0.03802405297756195, 0...</td>\n",
       "    </tr>\n",
       "    <tr>\n",
       "      <th>2</th>\n",
       "      <td>Sebebi neydi ki diye bağıracağım şimdi az kaldı</td>\n",
       "      <td>kızgın</td>\n",
       "      <td>[sebep, ne, ki, di, bağıracak, kal]</td>\n",
       "      <td>sebep ne ki di bağıracak kal</td>\n",
       "      <td>[-0.04549982771277428, 0.057624053210020065, 0...</td>\n",
       "    </tr>\n",
       "    <tr>\n",
       "      <th>3</th>\n",
       "      <td>Black friday ne amk bu yıl çıkardınız bu bokud...</td>\n",
       "      <td>kızgın</td>\n",
       "      <td>[black, friday, ne, amk, bu, yıl, çıkar, bu, b...</td>\n",
       "      <td>black friday ne amk bu yıl çıkar bu boku mal m...</td>\n",
       "      <td>[-0.05633914843201637, 0.07989545166492462, 0....</td>\n",
       "    </tr>\n",
       "    <tr>\n",
       "      <th>4</th>\n",
       "      <td>kısa kısa cevaplar vericeksen niye yazıyorsun ...</td>\n",
       "      <td>kızgın</td>\n",
       "      <td>[kıs, kıs, cevap, vericek, ni, yazıyor, gerize...</td>\n",
       "      <td>kıs kıs cevap vericek ni yazıyor gerizekal</td>\n",
       "      <td>[-0.014547188766300678, 0.020773082971572876, ...</td>\n",
       "    </tr>\n",
       "  </tbody>\n",
       "</table>\n",
       "</div>"
      ],
      "text/plain": [
       "                                                Text   Label   \n",
       "0  Allah'ım çıldıracağım. Yemin ederim çıldıracağ...  kızgın  \\\n",
       "1  site ne zaman çalıştıda ürün stokları bitti di...  kızgın   \n",
       "2    Sebebi neydi ki diye bağıracağım şimdi az kaldı  kızgın   \n",
       "3  Black friday ne amk bu yıl çıkardınız bu bokud...  kızgın   \n",
       "4  kısa kısa cevaplar vericeksen niye yazıyorsun ...  kızgın   \n",
       "\n",
       "                                              Text_2   \n",
       "0  [allah, çıldıracağım, ye, eder, çıldıracak, si...  \\\n",
       "1  [si, ne, zama, çalıştı, ür, stok, bit, diyor, ...   \n",
       "2                [sebep, ne, ki, di, bağıracak, kal]   \n",
       "3  [black, friday, ne, amk, bu, yıl, çıkar, bu, b...   \n",
       "4  [kıs, kıs, cevap, vericek, ni, yazıyor, gerize...   \n",
       "\n",
       "                                              Text_3   \n",
       "0  allah çıldıracağım ye eder çıldıracak sinirimd...  \\\n",
       "1  si ne zama çalıştı ür stok bit diyor mal mı oğ...   \n",
       "2                       sebep ne ki di bağıracak kal   \n",
       "3  black friday ne amk bu yıl çıkar bu boku mal m...   \n",
       "4         kıs kıs cevap vericek ni yazıyor gerizekal   \n",
       "\n",
       "                                            word2vec  \n",
       "0  [-0.05035147815942764, 0.07184021174907684, 0....  \n",
       "1  [-0.029470136389136314, 0.03802405297756195, 0...  \n",
       "2  [-0.04549982771277428, 0.057624053210020065, 0...  \n",
       "3  [-0.05633914843201637, 0.07989545166492462, 0....  \n",
       "4  [-0.014547188766300678, 0.020773082971572876, ...  "
      ]
     },
     "execution_count": 38,
     "metadata": {},
     "output_type": "execute_result"
    }
   ],
   "source": [
    "df[\"word2vec\"]=df[\"Text_2\"].apply(on_islem.word2vec)\n",
    "df.head()"
   ]
  },
  {
   "cell_type": "code",
   "execution_count": 39,
   "id": "020552c5-1ccd-4f1c-9554-7ca818f6ffd1",
   "metadata": {},
   "outputs": [
    {
     "name": "stdout",
     "output_type": "stream",
     "text": [
      "svm accuracy score : 0.3925\n",
      "svm f1 score : 0.3906661223425133\n"
     ]
    }
   ],
   "source": [
    "msg_train, msg_test, label_train, label_test = train_test_split(df[\"word2vec\"].tolist(),\n",
    "                                                                df[\"Label\"].tolist(), \n",
    "                                                                test_size=0.2, \n",
    "                                                                random_state=42)\n",
    "\n",
    "svm=Pipeline([('svm',LinearSVC())])\n",
    "svm.fit(msg_train,label_train)\n",
    "y_pred_class=svm.predict(msg_test)\n",
    "print(\"svm accuracy score :\", accuracy_score(label_test, y_pred_class))\n",
    "print(\"svm f1 score :\", f1_score(label_test,y_pred_class, average=\"weighted\"))\n"
   ]
  },
  {
   "cell_type": "code",
   "execution_count": 40,
   "id": "b444f74a-0699-4a6d-8c28-639485556124",
   "metadata": {},
   "outputs": [
    {
     "data": {
      "text/plain": [
       "<sklearn.metrics._plot.confusion_matrix.ConfusionMatrixDisplay at 0x2216961bf70>"
      ]
     },
     "execution_count": 40,
     "metadata": {},
     "output_type": "execute_result"
    },
    {
     "data": {
      "image/png": "[encoded data removed]",
      "text/plain": [
       "<Figure size 640x480 with 2 Axes>"
      ]
     },
     "metadata": {},
     "output_type": "display_data"
    }
   ],
   "source": [
    "cm=confusion_matrix(label_test, y_pred_class, labels=svm.classes_)\n",
    "disp=ConfusionMatrixDisplay(confusion_matrix=cm,display_labels=svm.classes_)\n",
    "disp.plot()"
   ]
  },
  {
   "cell_type": "code",
   "execution_count": 46,
   "id": "bcc6559e-2f39-4883-a387-41e86263c6f1",
   "metadata": {},
   "outputs": [
    {
     "name": "stdout",
     "output_type": "stream",
     "text": [
      "knn accuracy score : 0.7725\n",
      "knn f1 score : 0.7724111189890875\n"
     ]
    }
   ],
   "source": [
    "from sklearn.neighbors import KNeighborsClassifier\n",
    "\n",
    "msg_train, msg_test, label_train, label_test = train_test_split(df[\"Text_3\"].tolist(),\n",
    "                                                                df[\"Label\"].tolist(), \n",
    "                                                                test_size=0.2, \n",
    "                                                                random_state=42)\n",
    "\n",
    "\n",
    "knn=Pipeline([('vect',TfidfVectorizer()),('knn',KNeighborsClassifier())])\n",
    "knn.fit(msg_train,label_train)\n",
    "y_pred_class=knn.predict(msg_test)\n",
    "\n",
    "print(\"knn accuracy score :\", accuracy_score(label_test, y_pred_class))\n",
    "print(\"knn f1 score :\", f1_score(label_test,y_pred_class, average=\"weighted\"))\n"
   ]
  },
  {
   "cell_type": "code",
   "execution_count": 47,
   "id": "3482947f-e0bc-43f9-907b-c926eb4251e7",
   "metadata": {},
   "outputs": [
    {
     "data": {
      "text/plain": [
       "800"
      ]
     },
     "execution_count": 47,
     "metadata": {},
     "output_type": "execute_result"
    }
   ],
   "source": [
    "len(msg_test)"
   ]
  },
  {
   "cell_type": "code",
   "execution_count": 48,
   "id": "b44e293e-cacd-4b8d-bddc-20b92880067a",
   "metadata": {},
   "outputs": [
    {
     "data": {
      "text/plain": [
       "<sklearn.metrics._plot.confusion_matrix.ConfusionMatrixDisplay at 0x22169f6abc0>"
      ]
     },
     "execution_count": 48,
     "metadata": {},
     "output_type": "execute_result"
    },
    {
     "data": {
      "image/png": "[encoded data removed]",
      "text/plain": [
       "<Figure size 640x480 with 2 Axes>"
      ]
     },
     "metadata": {},
     "output_type": "display_data"
    }
   ],
   "source": [
    "cm=confusion_matrix(label_test, y_pred_class, labels=svm.classes_)\n",
    "disp=ConfusionMatrixDisplay(confusion_matrix=cm,display_labels=svm.classes_)\n",
    "disp.plot()"
   ]
  },
  {
   "cell_type": "code",
   "execution_count": 52,
   "id": "8f855dba-03b7-4904-97f9-e687de8e89c1",
   "metadata": {},
   "outputs": [
    {
     "name": "stdout",
     "output_type": "stream",
     "text": [
      "knn accuracy score : 0.30375\n",
      "knn f1 score : 0.29672098211246345\n"
     ]
    }
   ],
   "source": [
    "from sklearn.neighbors import KNeighborsClassifier\n",
    "\n",
    "msg_train, msg_test, label_train, label_test = train_test_split(df[\"word2vec\"].tolist(),\n",
    "                                                                df[\"Label\"].tolist(), \n",
    "                                                                test_size=0.2, \n",
    "                                                                random_state=42)\n",
    "\n",
    "\n",
    "knn=Pipeline([('knn',KNeighborsClassifier())])\n",
    "knn.fit(msg_train,label_train)\n",
    "y_pred_class=knn.predict(msg_test)\n",
    "\n",
    "print(\"knn accuracy score :\", accuracy_score(label_test, y_pred_class))\n",
    "print(\"knn f1 score :\", f1_score(label_test,y_pred_class, average=\"weighted\"))\n"
   ]
  },
  {
   "cell_type": "code",
   "execution_count": null,
   "id": "cc42d789-7273-4ce2-8076-3cfcf8a6f692",
   "metadata": {},
   "outputs": [],
   "source": []
  }
 ],
 "metadata": {
  "kernelspec": {
   "display_name": "Python 3 (ipykernel)",
   "language": "python",
   "name": "python3"
  },
  "language_info": {
   "codemirror_mode": {
    "name": "ipython",
    "version": 3
   },
   "file_extension": ".py",
   "mimetype": "text/x-python",
   "name": "python",
   "nbconvert_exporter": "python",
   "pygments_lexer": "ipython3",
   "version": "3.10.10"
  }
 },
 "nbformat": 4,
 "nbformat_minor": 5
}
